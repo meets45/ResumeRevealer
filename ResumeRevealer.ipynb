{
  "cells": [
    {
      "cell_type": "markdown",
      "source": [
        "Team Name:  **Artificial Coders**\n",
        "<br>\n",
        "Track Name:\n",
        "**ResumeRevealer Track: Advanced Resume Parsing Challenge**\n",
        "<br>\n",
        "Company Name : **Revelio Labs**"
      ],
      "metadata": {
        "id": "3IAzMZWfLEtW"
      }
    },
    {
      "cell_type": "code",
      "source": [
        "!pip install tika\n",
        "!pip install nltk\n",
        "import nltk\n",
        "nltk.download('averaged_perceptron_tagger')\n",
        "nltk.download('punkt')\n",
        "nltk.download('wordnet')\n",
        "nltk.download('stopwords')"
      ],
      "metadata": {
        "colab": {
          "base_uri": "https://localhost:8080/"
        },
        "id": "T7_tVF1nKZ8H",
        "outputId": "866f8eaf-28fd-4528-c2f2-6786eba96d78"
      },
      "execution_count": null,
      "outputs": [
        {
          "output_type": "stream",
          "name": "stdout",
          "text": [
            "Requirement already satisfied: tika in /usr/local/lib/python3.10/dist-packages (2.6.0)\n",
            "Requirement already satisfied: setuptools in /usr/local/lib/python3.10/dist-packages (from tika) (67.7.2)\n",
            "Requirement already satisfied: requests in /usr/local/lib/python3.10/dist-packages (from tika) (2.31.0)\n",
            "Requirement already satisfied: charset-normalizer<4,>=2 in /usr/local/lib/python3.10/dist-packages (from requests->tika) (3.3.2)\n",
            "Requirement already satisfied: idna<4,>=2.5 in /usr/local/lib/python3.10/dist-packages (from requests->tika) (3.6)\n",
            "Requirement already satisfied: urllib3<3,>=1.21.1 in /usr/local/lib/python3.10/dist-packages (from requests->tika) (2.0.7)\n",
            "Requirement already satisfied: certifi>=2017.4.17 in /usr/local/lib/python3.10/dist-packages (from requests->tika) (2024.2.2)\n",
            "Requirement already satisfied: nltk in /usr/local/lib/python3.10/dist-packages (3.8.1)\n",
            "Requirement already satisfied: click in /usr/local/lib/python3.10/dist-packages (from nltk) (8.1.7)\n",
            "Requirement already satisfied: joblib in /usr/local/lib/python3.10/dist-packages (from nltk) (1.3.2)\n",
            "Requirement already satisfied: regex>=2021.8.3 in /usr/local/lib/python3.10/dist-packages (from nltk) (2023.12.25)\n",
            "Requirement already satisfied: tqdm in /usr/local/lib/python3.10/dist-packages (from nltk) (4.66.2)\n"
          ]
        },
        {
          "output_type": "stream",
          "name": "stderr",
          "text": [
            "[nltk_data] Downloading package averaged_perceptron_tagger to\n",
            "[nltk_data]     /root/nltk_data...\n",
            "[nltk_data]   Package averaged_perceptron_tagger is already up-to-\n",
            "[nltk_data]       date!\n",
            "[nltk_data] Downloading package punkt to /root/nltk_data...\n",
            "[nltk_data]   Package punkt is already up-to-date!\n",
            "[nltk_data] Downloading package wordnet to /root/nltk_data...\n",
            "[nltk_data]   Package wordnet is already up-to-date!\n",
            "[nltk_data] Downloading package stopwords to /root/nltk_data...\n",
            "[nltk_data]   Package stopwords is already up-to-date!\n"
          ]
        },
        {
          "output_type": "execute_result",
          "data": {
            "text/plain": [
              "True"
            ]
          },
          "metadata": {},
          "execution_count": 68
        }
      ]
    },
    {
      "cell_type": "code",
      "source": [
        "import nltk\n",
        "\n",
        "import re\n",
        "import gensim\n",
        "import pandas as pd\n",
        "\n",
        "from nltk.tokenize import word_tokenize\n",
        "from nltk.corpus import wordnet\n",
        "from nltk.stem import PorterStemmer\n",
        "from nltk.corpus import stopwords\n",
        "from nltk.stem import WordNetLemmatizer\n",
        "from nltk.util import ngrams\n",
        "from gensim.models import Word2Vec,KeyedVectors\n",
        "from tika import parser\n",
        "\n"
      ],
      "metadata": {
        "id": "sSa1M9_USESx"
      },
      "execution_count": null,
      "outputs": []
    },
    {
      "cell_type": "code",
      "source": [
        "# from google.colab import files\n",
        "# uploaded = files.upload()"
      ],
      "metadata": {
        "id": "2NSVasFlKpfy"
      },
      "execution_count": null,
      "outputs": []
    },
    {
      "cell_type": "code",
      "source": [
        "\n",
        "file = r'Sarthak_Methaniya_CV.pdf'\n",
        "file_data = parser.from_file(file)\n",
        "text = file_data['content']\n",
        "lines = text.split('\\n')\n",
        "filtered_data = [item.strip() for item in lines if item.strip()]\n",
        "filtered_data"
      ],
      "metadata": {
        "colab": {
          "base_uri": "https://localhost:8080/"
        },
        "id": "7N4NpSUqLHwo",
        "outputId": "e531c5e3-136f-41a1-eee1-42e31c8464e1"
      },
      "execution_count": 102,
      "outputs": [
        {
          "output_type": "stream",
          "name": "stdout",
          "text": [
            "{'metadata': {'pdf:unmappedUnicodeCharsPerPage': '4', 'pdf:PDFVersion': '1.5', 'xmp:CreatorTool': 'LaTeX with hyperref', 'pdf:hasXFA': 'false', 'access_permission:modify_annotations': 'true', 'access_permission:can_print_degraded': 'true', 'X-TIKA:Parsed-By-Full-Set': ['org.apache.tika.parser.DefaultParser', 'org.apache.tika.parser.pdf.PDFParser'], 'X-TIKA:content_handler': 'ToTextContentHandler', 'pdf:num3DAnnotations': '0', 'dcterms:created': '2024-02-09T12:27:11Z', 'dcterms:modified': '2024-02-09T12:27:11Z', 'dc:format': 'application/pdf; version=1.5', 'pdf:docinfo:creator_tool': 'LaTeX with hyperref', 'pdf:overallPercentageUnmappedUnicodeChars': '0.0017636683769524097', 'access_permission:fill_in_form': 'true', 'pdf:docinfo:modified': '2024-02-09T12:27:11Z', 'pdf:hasCollection': 'false', 'pdf:encrypted': 'false', 'pdf:docinfo:custom:PTEX.Fullbanner': 'This is pdfTeX, Version 3.141592653-2.6-1.40.23 (TeX Live 2021) kpathsea version 6.3.3', 'pdf:containsNonEmbeddedFont': 'false', 'Content-Length': '136169', 'pdf:hasMarkedContent': 'false', 'Content-Type': 'application/pdf', 'PTEX.Fullbanner': 'This is pdfTeX, Version 3.141592653-2.6-1.40.23 (TeX Live 2021) kpathsea version 6.3.3', 'pdf:producer': 'pdfTeX-1.40.23', 'pdf:totalUnmappedUnicodeChars': '4', 'access_permission:extract_for_accessibility': 'true', 'access_permission:assemble_document': 'true', 'xmpTPg:NPages': '1', 'resourceName': \"b'Sarthak_Methaniya_CV.pdf'\", 'pdf:hasXMP': 'false', 'pdf:charsPerPage': '2268', 'access_permission:extract_content': 'true', 'access_permission:can_print': 'true', 'pdf:docinfo:trapped': 'False', 'X-TIKA:Parsed-By': ['org.apache.tika.parser.DefaultParser', 'org.apache.tika.parser.pdf.PDFParser'], 'X-TIKA:parse_time_millis': '373', 'X-TIKA:embedded_depth': '0', 'pdf:annotationTypes': 'null', 'access_permission:can_modify': 'true', 'pdf:docinfo:producer': 'pdfTeX-1.40.23', 'pdf:docinfo:created': '2024-02-09T12:27:11Z', 'pdf:annotationSubtypes': 'Link', 'pdf:containsDamagedFont': 'false'}, 'content': '\\n\\n\\n\\n\\n\\n\\n\\n\\n\\n\\n\\n\\n\\n\\n\\n\\n\\n\\n\\n\\n\\n\\n\\n\\n\\n\\n\\n\\n\\n\\n\\n\\n\\n\\n\\n\\nSarthak Methaniya\\n +91 8799589552 |  sarthakmethaniya@gmail.com |  sarthak-methaniya | � Sarthak3539\\n\\nEducation\\n\\nInstitute of Technology Nirma University 2021 - 2025\\nB.tech in Computer Science and Engineering(CGPA of 7.61) Ahmedabad,Gujarat, India\\n\\nVivekanand Science Acadamy 2019 - 2021\\n12th Science(Percentage:93.8%) Morbi,Gujarat, India\\n\\nProjects\\n\\nTask Management | HTML CSS JavaScript Nodejs Expressjs MongoDB | link\\n• Created a Task Management web app in which users can list their tasks and mark them as completed when they’re\\ndone.\\n\\n• Implemented user authentication, enabling users to efficiently create, update, find, and delete tasks.\\n\\n• Utilized MongoDB for saving data of user detail and user tasks, Express.js for RESTful API, and Node.js as\\nthe runtime environment.\\n\\nCovid 19 Data Analysis | Python | link\\n• Created a COVID-19 analysis in Jupyter Notebook for Indian states and countries worldwide, showcasing\\nvarious COVID-19 parameters such as active cases, vaccination rates, and infection rates\\n\\n• Used Pandas for data preparation and Cleaning, NumPy for various calculations and Matplotlib for\\nvisualizations\\n\\nVirtual Smart Home Cost Estimator | HTML CSS JavaScript Nodejs Expressjs MongoDB | link\\n• Built a virtual smart home cost estimator in which users can select their desired location and smart home items.\\nIt accurately calculates costs, generates detailed invoices, and provides a user query feature.\\n\\n• An interactive frontend created using HTML, CSS, and JavaScript with Node.js and Express.js for the\\nbackend and MongoDB for the database.\\n\\nSkills\\n\\nProgramming Language: C, C++, Java, Python, HTML, CSS, JavaScript, SQL\\n\\nCS fundamentals: Data Structures and Algorithms, Object Oriented Programming, Operating System, Database\\nManagement System,Computer Network,Machine Learning,Software Engineering\\nLibraries and frameworks:React,Node.js, Express.js, mongoose,NumPy, Pandas,Matplotlib\\nDatabases: MongoDB,Oracle SQL\\n\\nAchievements\\n\\nSpecialist on codeforces with highest rating of 1402\\n\\n3 star coder on Codechef with highest rating of 1647\\n\\nrated in top 18.28% on Leetcode with highest rating of 1634\\n\\nsolved more than 1000 problems on various coding platforms like Codeforces, Codechef, Leetcode,Vjudge\\n\\nExperience\\n\\nComputer Society Of India, Nirma University Nov 2022 – Sep 2023\\nExecutive Committee Member - Credentials\\n\\n• Core committee member in HackNUthon 4.0, which was a National-level Hackathon held in April 2023 in offline\\nmode.\\n\\n• Cubix is an exclusive event specifically for Nirma University students. Within Cubix, I was responsible for setting\\ncoding problems for the Code-Relay event.\\n\\nProfiles links\\n\\nCodeforces | Codechef | Leetcode\\n\\ntel:8799589552\\nmailto:sarthakmethaniya@gmail.com\\nhttps://www.linkedin.com/in/sarthak-methaniya\\nhttps://github.com/Sarthak3539\\nhttps://github.com/Sarthak3539/Task-Mangement\\nhttps://github.com/Sarthak3539/COVID-19-DATA-ANALYSIS\\nhttps://github.com/Sarthak3539/Virtual_Smart_Home_COST_ESTIMATOR\\nhttps://drive.google.com/file/d/1_IKuda0D1xM4MQgOJeMkMC-XcA2oAbAr/view?usp=sharing\\nhttps://codeforces.com/profile/Sarthak_78\\nhttps://www.codechef.com/users/sarthak_78\\nhttps://leetcode.com/Sarthak_78/\\n\\n\\tEducation\\n\\tProjects\\n\\tSkills\\n\\tAchievements\\n\\tExperience\\n\\tProfiles links\\n\\n', 'status': 200}\n"
          ]
        },
        {
          "output_type": "execute_result",
          "data": {
            "text/plain": [
              "['Sarthak Methaniya',\n",
              " '+91 8799589552 |  sarthakmethaniya@gmail.com |  sarthak-methaniya | � Sarthak3539',\n",
              " 'Education',\n",
              " 'Institute of Technology Nirma University 2021 - 2025',\n",
              " 'B.tech in Computer Science and Engineering(CGPA of 7.61) Ahmedabad,Gujarat, India',\n",
              " 'Vivekanand Science Acadamy 2019 - 2021',\n",
              " '12th Science(Percentage:93.8%) Morbi,Gujarat, India',\n",
              " 'Projects',\n",
              " 'Task Management | HTML CSS JavaScript Nodejs Expressjs MongoDB | link',\n",
              " '• Created a Task Management web app in which users can list their tasks and mark them as completed when they’re',\n",
              " 'done.',\n",
              " '• Implemented user authentication, enabling users to efficiently create, update, find, and delete tasks.',\n",
              " '• Utilized MongoDB for saving data of user detail and user tasks, Express.js for RESTful API, and Node.js as',\n",
              " 'the runtime environment.',\n",
              " 'Covid 19 Data Analysis | Python | link',\n",
              " '• Created a COVID-19 analysis in Jupyter Notebook for Indian states and countries worldwide, showcasing',\n",
              " 'various COVID-19 parameters such as active cases, vaccination rates, and infection rates',\n",
              " '• Used Pandas for data preparation and Cleaning, NumPy for various calculations and Matplotlib for',\n",
              " 'visualizations',\n",
              " 'Virtual Smart Home Cost Estimator | HTML CSS JavaScript Nodejs Expressjs MongoDB | link',\n",
              " '• Built a virtual smart home cost estimator in which users can select their desired location and smart home items.',\n",
              " 'It accurately calculates costs, generates detailed invoices, and provides a user query feature.',\n",
              " '• An interactive frontend created using HTML, CSS, and JavaScript with Node.js and Express.js for the',\n",
              " 'backend and MongoDB for the database.',\n",
              " 'Skills',\n",
              " 'Programming Language: C, C++, Java, Python, HTML, CSS, JavaScript, SQL',\n",
              " 'CS fundamentals: Data Structures and Algorithms, Object Oriented Programming, Operating System, Database',\n",
              " 'Management System,Computer Network,Machine Learning,Software Engineering',\n",
              " 'Libraries and frameworks:React,Node.js, Express.js, mongoose,NumPy, Pandas,Matplotlib',\n",
              " 'Databases: MongoDB,Oracle SQL',\n",
              " 'Achievements',\n",
              " 'Specialist on codeforces with highest rating of 1402',\n",
              " '3 star coder on Codechef with highest rating of 1647',\n",
              " 'rated in top 18.28% on Leetcode with highest rating of 1634',\n",
              " 'solved more than 1000 problems on various coding platforms like Codeforces, Codechef, Leetcode,Vjudge',\n",
              " 'Experience',\n",
              " 'Computer Society Of India, Nirma University Nov 2022 – Sep 2023',\n",
              " 'Executive Committee Member - Credentials',\n",
              " '• Core committee member in HackNUthon 4.0, which was a National-level Hackathon held in April 2023 in offline',\n",
              " 'mode.',\n",
              " '• Cubix is an exclusive event specifically for Nirma University students. Within Cubix, I was responsible for setting',\n",
              " 'coding problems for the Code-Relay event.',\n",
              " 'Profiles links',\n",
              " 'Codeforces | Codechef | Leetcode',\n",
              " 'tel:8799589552',\n",
              " 'mailto:sarthakmethaniya@gmail.com',\n",
              " 'https://www.linkedin.com/in/sarthak-methaniya',\n",
              " 'https://github.com/Sarthak3539',\n",
              " 'https://github.com/Sarthak3539/Task-Mangement',\n",
              " 'https://github.com/Sarthak3539/COVID-19-DATA-ANALYSIS',\n",
              " 'https://github.com/Sarthak3539/Virtual_Smart_Home_COST_ESTIMATOR',\n",
              " 'https://drive.google.com/file/d/1_IKuda0D1xM4MQgOJeMkMC-XcA2oAbAr/view?usp=sharing',\n",
              " 'https://codeforces.com/profile/Sarthak_78',\n",
              " 'https://www.codechef.com/users/sarthak_78',\n",
              " 'https://leetcode.com/Sarthak_78/',\n",
              " 'Education',\n",
              " 'Projects',\n",
              " 'Skills',\n",
              " 'Achievements',\n",
              " 'Experience',\n",
              " 'Profiles links']"
            ]
          },
          "metadata": {},
          "execution_count": 102
        }
      ]
    },
    {
      "cell_type": "code",
      "source": [
        "def lemmatize_text(text):\n",
        "    # Initialize WordNet lemmatizer\n",
        "    lemmatizer = WordNetLemmatizer()\n",
        "\n",
        "    # Tokenize the text into words\n",
        "    words = nltk.word_tokenize(text)\n",
        "\n",
        "    # Lemmatize each word using its part of speech (POS) tag\n",
        "    lemmatized_words = []\n",
        "    for word, tag in nltk.pos_tag(words):\n",
        "        pos_tag = tag[0].lower()  # Convert POS tag to WordNet format\n",
        "        pos_tag = pos_tag if pos_tag in ['a', 'r', 'n', 'v'] else None\n",
        "\n",
        "        if pos_tag:\n",
        "            lemma = lemmatizer.lemmatize(word, pos=pos_tag)  # Lemmatize word\n",
        "        else:\n",
        "            lemma = lemmatizer.lemmatize(word)\n",
        "\n",
        "        lemmatized_words.append(lemma)\n",
        "\n",
        "    # Join the lemmatized words back into a string\n",
        "    lemmatized_text = ' '.join(lemmatized_words)\n",
        "    return lemmatized_text\n",
        "\n",
        "for i in filtered_data:\n",
        "  i = lemmatize_text(i)\n",
        "filtered_data"
      ],
      "metadata": {
        "colab": {
          "base_uri": "https://localhost:8080/"
        },
        "id": "DHYbFsIBReE6",
        "outputId": "005716fb-5703-464d-fe74-d8b0697778aa"
      },
      "execution_count": null,
      "outputs": [
        {
          "output_type": "execute_result",
          "data": {
            "text/plain": [
              "['Sarthak Methaniya',\n",
              " '+91 8799589552 |  sarthakmethaniya@gmail.com |  sarthak-methaniya | � Sarthak3539',\n",
              " 'Education',\n",
              " 'Institute of Technology Nirma University 2021 - 2025',\n",
              " 'B.tech in Computer Science and Engineering(CGPA of 7.61) Ahmedabad,Gujarat, India',\n",
              " 'Vivekanand Science Acadamy 2019 - 2021',\n",
              " '12th Science(Percentage:93.8%) Morbi,Gujarat, India',\n",
              " 'Projects',\n",
              " 'Task Management | HTML CSS JavaScript Nodejs Expressjs MongoDB | link',\n",
              " '• Created a Task Management web app in which users can list their tasks and mark them as completed when they’re',\n",
              " 'done.',\n",
              " '• Implemented user authentication, enabling users to efficiently create, update, find, and delete tasks.',\n",
              " '• Utilized MongoDB for saving data of user detail and user tasks, Express.js for RESTful API, and Node.js as',\n",
              " 'the runtime environment.',\n",
              " 'Covid 19 Data Analysis | Python | link',\n",
              " '• Created a COVID-19 analysis in Jupyter Notebook for Indian states and countries worldwide, showcasing',\n",
              " 'various COVID-19 parameters such as active cases, vaccination rates, and infection rates',\n",
              " '• Used Pandas for data preparation and Cleaning, NumPy for various calculations and Matplotlib for',\n",
              " 'visualizations',\n",
              " 'Virtual Smart Home Cost Estimator | HTML CSS JavaScript Nodejs Expressjs MongoDB | link',\n",
              " '• Built a virtual smart home cost estimator in which users can select their desired location and smart home items.',\n",
              " 'It accurately calculates costs, generates detailed invoices, and provides a user query feature.',\n",
              " '• An interactive frontend created using HTML, CSS, and JavaScript with Node.js and Express.js for the',\n",
              " 'backend and MongoDB for the database.',\n",
              " 'Skills',\n",
              " 'Programming Language: C, C++, Java, Python, HTML, CSS, JavaScript, SQL',\n",
              " 'CS fundamentals: Data Structures and Algorithms, Object Oriented Programming, Operating System, Database',\n",
              " 'Management System,Computer Network,Machine Learning,Software Engineering',\n",
              " 'Libraries and frameworks:React,Node.js, Express.js, mongoose,NumPy, Pandas,Matplotlib',\n",
              " 'Databases: MongoDB,Oracle SQL',\n",
              " 'Achievements',\n",
              " 'Specialist on codeforces with highest rating of 1402',\n",
              " '3 star coder on Codechef with highest rating of 1647',\n",
              " 'rated in top 18.28% on Leetcode with highest rating of 1634',\n",
              " 'solved more than 1000 problems on various coding platforms like Codeforces, Codechef, Leetcode,Vjudge',\n",
              " 'Experience',\n",
              " 'Computer Society Of India, Nirma University Nov 2022 – Sep 2023',\n",
              " 'Executive Committee Member - Credentials',\n",
              " '• Core committee member in HackNUthon 4.0, which was a National-level Hackathon held in April 2023 in offline',\n",
              " 'mode.',\n",
              " '• Cubix is an exclusive event specifically for Nirma University students. Within Cubix, I was responsible for setting',\n",
              " 'coding problems for the Code-Relay event.',\n",
              " 'Profiles links',\n",
              " 'Codeforces | Codechef | Leetcode',\n",
              " 'tel:8799589552',\n",
              " 'mailto:sarthakmethaniya@gmail.com',\n",
              " 'https://www.linkedin.com/in/sarthak-methaniya',\n",
              " 'https://github.com/Sarthak3539',\n",
              " 'https://github.com/Sarthak3539/Task-Mangement',\n",
              " 'https://github.com/Sarthak3539/COVID-19-DATA-ANALYSIS',\n",
              " 'https://github.com/Sarthak3539/Virtual_Smart_Home_COST_ESTIMATOR',\n",
              " 'https://drive.google.com/file/d/1_IKuda0D1xM4MQgOJeMkMC-XcA2oAbAr/view?usp=sharing',\n",
              " 'https://codeforces.com/profile/Sarthak_78',\n",
              " 'https://www.codechef.com/users/sarthak_78',\n",
              " 'https://leetcode.com/Sarthak_78/',\n",
              " 'Education',\n",
              " 'Projects',\n",
              " 'Skills',\n",
              " 'Achievements',\n",
              " 'Experience',\n",
              " 'Profiles links']"
            ]
          },
          "metadata": {},
          "execution_count": 72
        }
      ]
    },
    {
      "cell_type": "code",
      "source": [
        "\n",
        "pro = []\n",
        "for i in filtered_data:\n",
        "  tokens = nltk.tokenize.word_tokenize(i)\n",
        "  pro.append(tokens)\n",
        "pro\n",
        "\n",
        "for i in pro:\n",
        "  print(i)"
      ],
      "metadata": {
        "colab": {
          "base_uri": "https://localhost:8080/"
        },
        "id": "-x2_gt2OPtc1",
        "outputId": "28edb268-3e2a-4626-f3a8-60ba6655c89c"
      },
      "execution_count": null,
      "outputs": [
        {
          "output_type": "stream",
          "name": "stdout",
          "text": [
            "['Sarthak', 'Methaniya']\n",
            "['+91', '8799589552', '|', 'sarthakmethaniya', '@', 'gmail.com', '|', 'sarthak-methaniya', '|', '�', 'Sarthak3539']\n",
            "['Education']\n",
            "['Institute', 'of', 'Technology', 'Nirma', 'University', '2021', '-', '2025']\n",
            "['B.tech', 'in', 'Computer', 'Science', 'and', 'Engineering', '(', 'CGPA', 'of', '7.61', ')', 'Ahmedabad', ',', 'Gujarat', ',', 'India']\n",
            "['Vivekanand', 'Science', 'Acadamy', '2019', '-', '2021']\n",
            "['12th', 'Science', '(', 'Percentage:93.8', '%', ')', 'Morbi', ',', 'Gujarat', ',', 'India']\n",
            "['Projects']\n",
            "['Task', 'Management', '|', 'HTML', 'CSS', 'JavaScript', 'Nodejs', 'Expressjs', 'MongoDB', '|', 'link']\n",
            "['•', 'Created', 'a', 'Task', 'Management', 'web', 'app', 'in', 'which', 'users', 'can', 'list', 'their', 'tasks', 'and', 'mark', 'them', 'as', 'completed', 'when', 'they', '’', 're']\n",
            "['done', '.']\n",
            "['•', 'Implemented', 'user', 'authentication', ',', 'enabling', 'users', 'to', 'efficiently', 'create', ',', 'update', ',', 'find', ',', 'and', 'delete', 'tasks', '.']\n",
            "['•', 'Utilized', 'MongoDB', 'for', 'saving', 'data', 'of', 'user', 'detail', 'and', 'user', 'tasks', ',', 'Express.js', 'for', 'RESTful', 'API', ',', 'and', 'Node.js', 'as']\n",
            "['the', 'runtime', 'environment', '.']\n",
            "['Covid', '19', 'Data', 'Analysis', '|', 'Python', '|', 'link']\n",
            "['•', 'Created', 'a', 'COVID-19', 'analysis', 'in', 'Jupyter', 'Notebook', 'for', 'Indian', 'states', 'and', 'countries', 'worldwide', ',', 'showcasing']\n",
            "['various', 'COVID-19', 'parameters', 'such', 'as', 'active', 'cases', ',', 'vaccination', 'rates', ',', 'and', 'infection', 'rates']\n",
            "['•', 'Used', 'Pandas', 'for', 'data', 'preparation', 'and', 'Cleaning', ',', 'NumPy', 'for', 'various', 'calculations', 'and', 'Matplotlib', 'for']\n",
            "['visualizations']\n",
            "['Virtual', 'Smart', 'Home', 'Cost', 'Estimator', '|', 'HTML', 'CSS', 'JavaScript', 'Nodejs', 'Expressjs', 'MongoDB', '|', 'link']\n",
            "['•', 'Built', 'a', 'virtual', 'smart', 'home', 'cost', 'estimator', 'in', 'which', 'users', 'can', 'select', 'their', 'desired', 'location', 'and', 'smart', 'home', 'items', '.']\n",
            "['It', 'accurately', 'calculates', 'costs', ',', 'generates', 'detailed', 'invoices', ',', 'and', 'provides', 'a', 'user', 'query', 'feature', '.']\n",
            "['•', 'An', 'interactive', 'frontend', 'created', 'using', 'HTML', ',', 'CSS', ',', 'and', 'JavaScript', 'with', 'Node.js', 'and', 'Express.js', 'for', 'the']\n",
            "['backend', 'and', 'MongoDB', 'for', 'the', 'database', '.']\n",
            "['Skills']\n",
            "['Programming', 'Language', ':', 'C', ',', 'C++', ',', 'Java', ',', 'Python', ',', 'HTML', ',', 'CSS', ',', 'JavaScript', ',', 'SQL']\n",
            "['CS', 'fundamentals', ':', 'Data', 'Structures', 'and', 'Algorithms', ',', 'Object', 'Oriented', 'Programming', ',', 'Operating', 'System', ',', 'Database']\n",
            "['Management', 'System', ',', 'Computer', 'Network', ',', 'Machine', 'Learning', ',', 'Software', 'Engineering']\n",
            "['Libraries', 'and', 'frameworks', ':', 'React', ',', 'Node.js', ',', 'Express.js', ',', 'mongoose', ',', 'NumPy', ',', 'Pandas', ',', 'Matplotlib']\n",
            "['Databases', ':', 'MongoDB', ',', 'Oracle', 'SQL']\n",
            "['Achievements']\n",
            "['Specialist', 'on', 'codeforces', 'with', 'highest', 'rating', 'of', '1402']\n",
            "['3', 'star', 'coder', 'on', 'Codechef', 'with', 'highest', 'rating', 'of', '1647']\n",
            "['rated', 'in', 'top', '18.28', '%', 'on', 'Leetcode', 'with', 'highest', 'rating', 'of', '1634']\n",
            "['solved', 'more', 'than', '1000', 'problems', 'on', 'various', 'coding', 'platforms', 'like', 'Codeforces', ',', 'Codechef', ',', 'Leetcode', ',', 'Vjudge']\n",
            "['Experience']\n",
            "['Computer', 'Society', 'Of', 'India', ',', 'Nirma', 'University', 'Nov', '2022', '–', 'Sep', '2023']\n",
            "['Executive', 'Committee', 'Member', '-', 'Credentials']\n",
            "['•', 'Core', 'committee', 'member', 'in', 'HackNUthon', '4.0', ',', 'which', 'was', 'a', 'National-level', 'Hackathon', 'held', 'in', 'April', '2023', 'in', 'offline']\n",
            "['mode', '.']\n",
            "['•', 'Cubix', 'is', 'an', 'exclusive', 'event', 'specifically', 'for', 'Nirma', 'University', 'students', '.', 'Within', 'Cubix', ',', 'I', 'was', 'responsible', 'for', 'setting']\n",
            "['coding', 'problems', 'for', 'the', 'Code-Relay', 'event', '.']\n",
            "['Profiles', 'links']\n",
            "['Codeforces', '|', 'Codechef', '|', 'Leetcode']\n",
            "['tel:8799589552']\n",
            "['mailto', ':', 'sarthakmethaniya', '@', 'gmail.com']\n",
            "['https', ':', '//www.linkedin.com/in/sarthak-methaniya']\n",
            "['https', ':', '//github.com/Sarthak3539']\n",
            "['https', ':', '//github.com/Sarthak3539/Task-Mangement']\n",
            "['https', ':', '//github.com/Sarthak3539/COVID-19-DATA-ANALYSIS']\n",
            "['https', ':', '//github.com/Sarthak3539/Virtual_Smart_Home_COST_ESTIMATOR']\n",
            "['https', ':', '//drive.google.com/file/d/1_IKuda0D1xM4MQgOJeMkMC-XcA2oAbAr/view', '?', 'usp=sharing']\n",
            "['https', ':', '//codeforces.com/profile/Sarthak_78']\n",
            "['https', ':', '//www.codechef.com/users/sarthak_78']\n",
            "['https', ':', '//leetcode.com/Sarthak_78/']\n",
            "['Education']\n",
            "['Projects']\n",
            "['Skills']\n",
            "['Achievements']\n",
            "['Experience']\n",
            "['Profiles', 'links']\n"
          ]
        }
      ]
    },
    {
      "cell_type": "code",
      "source": [
        "def split_list_by_separator(input_list, separators):\n",
        "    \"\"\"\n",
        "    Split a list into parts based on a list of separator strings.\n",
        "\n",
        "    Args:\n",
        "    input_list (list): The list to be split.\n",
        "    separators (list): The list of separator strings to split the list.\n",
        "\n",
        "    Returns:\n",
        "    list of lists: The list split into parts.\n",
        "    \"\"\"\n",
        "    parts = []\n",
        "    start_index = 0\n",
        "\n",
        "    for i, item in enumerate(input_list):\n",
        "        for separator in separators:\n",
        "            if separator in item:\n",
        "                parts.append(input_list[start_index:i])\n",
        "                start_index = i\n",
        "\n",
        "    if start_index < len(input_list):\n",
        "        parts.append(input_list[start_index:])\n",
        "\n",
        "    return parts\n",
        "\n",
        "# Sample list with different valued separators\n",
        "my_list = ['A', 'B', '---- Separator1 ----', 'C', 'D', 'E', '#### Separator2 ####', 'F', 'G']\n",
        "\n",
        "# Split the list by separators\n",
        "separators = ['---- Separator1 ----', '#### Separator2 ####']\n",
        "parts = split_list_by_separator(my_list, separators)\n",
        "\n",
        "# Print the parts\n",
        "# for part in parts:\n",
        "#     print(part)"
      ],
      "metadata": {
        "id": "vicXLMDEUE8w"
      },
      "execution_count": null,
      "outputs": []
    },
    {
      "cell_type": "code",
      "source": [],
      "metadata": {
        "id": "GKiv5gFOUMxH"
      },
      "execution_count": null,
      "outputs": []
    },
    {
      "cell_type": "code",
      "source": [],
      "metadata": {
        "id": "8yG3g7d0Ylfx"
      },
      "execution_count": null,
      "outputs": []
    },
    {
      "cell_type": "code",
      "source": [],
      "metadata": {
        "id": "B9jySwIZbGXo"
      },
      "execution_count": null,
      "outputs": []
    },
    {
      "cell_type": "code",
      "source": [
        "work_experience_headlines = [\n",
        "    'Work Experience',\n",
        "    'Work History',\n",
        "    'Employment History',\n",
        "    'Professional Experience',\n",
        "    'Professional History',\n",
        "    'Career Experience',\n",
        "    'Career History',\n",
        "    'Job Experience',\n",
        "    'Job History',\n",
        "    'Employment Experience',\n",
        "    'Job Background',\n",
        "    'Professional Background',\n",
        "    'Work Background',\n",
        "    'Work Record',\n",
        "    'Employment Record',\n",
        "    'Job Record',\n",
        "    'Professional Record',\n",
        "    'Career Record',\n",
        "    'Job Details',\n",
        "    'Professional Journey',\n",
        "    'Experience',\n",
        "    'experience'\n",
        "]\n",
        "\n",
        "education_background_headlines = [\n",
        "    'Education Background',\n",
        "    'Education History',\n",
        "    'Educational Background',\n",
        "    'Educational History',\n",
        "    'Academic Background',\n",
        "    'Academic History',\n",
        "    'Education',\n",
        "    'Educational Qualifications',\n",
        "    'Academic Qualifications',\n",
        "    'Academic Credentials',\n",
        "    'Educational Credentials',\n",
        "    'Educational Details',\n",
        "    'Academic Details',\n",
        "    'Educational Record',\n",
        "    'Academic Record',\n",
        "    'Education Record',\n",
        "    'Educational Profile',\n",
        "    'Academic Profile',\n",
        "    'Education Details',\n",
        "    'Academic Details'\n",
        "]\n",
        "\n",
        "project_section_separators = [\n",
        "    'Projects',\n",
        "    'Course Projects',\n",
        "    'Course Assignments',\n",
        "    'Personal Projects',\n",
        "    'Research Projects',\n",
        "    'Capstone Projects',\n",
        "    'Group Projects',\n",
        "    'Independent Projects',\n",
        "    'Final Year Projects',\n",
        "    'Thesis Projects',\n",
        "    'Internship Projects',\n",
        "    'Extracurricular Projects',\n",
        "    'Academic Projects',\n",
        "    'Professional Projects'\n",
        "]\n",
        "\n",
        "\n",
        "seps = work_experience_headlines + education_background_headlines + project_section_separators\n",
        "# seps\n",
        "\n",
        "f2_data = split_list_by_separator(filtered_data,seps)\n",
        "f2_data"
      ],
      "metadata": {
        "colab": {
          "base_uri": "https://localhost:8080/"
        },
        "id": "KlPyZFqmxijn",
        "outputId": "079c39d5-6a01-400b-ccf4-968bf46a93c9"
      },
      "execution_count": null,
      "outputs": [
        {
          "output_type": "execute_result",
          "data": {
            "text/plain": [
              "[['Sarthak Methaniya',\n",
              "  '+91 8799589552 |  sarthakmethaniya@gmail.com |  sarthak-methaniya | � Sarthak3539'],\n",
              " ['Education',\n",
              "  'Institute of Technology Nirma University 2021 - 2025',\n",
              "  'B.tech in Computer Science and Engineering(CGPA of 7.61) Ahmedabad,Gujarat, India',\n",
              "  'Vivekanand Science Acadamy 2019 - 2021',\n",
              "  '12th Science(Percentage:93.8%) Morbi,Gujarat, India'],\n",
              " ['Projects',\n",
              "  'Task Management | HTML CSS JavaScript Nodejs Expressjs MongoDB | link',\n",
              "  '• Created a Task Management web app in which users can list their tasks and mark them as completed when they’re',\n",
              "  'done.',\n",
              "  '• Implemented user authentication, enabling users to efficiently create, update, find, and delete tasks.',\n",
              "  '• Utilized MongoDB for saving data of user detail and user tasks, Express.js for RESTful API, and Node.js as',\n",
              "  'the runtime environment.',\n",
              "  'Covid 19 Data Analysis | Python | link',\n",
              "  '• Created a COVID-19 analysis in Jupyter Notebook for Indian states and countries worldwide, showcasing',\n",
              "  'various COVID-19 parameters such as active cases, vaccination rates, and infection rates',\n",
              "  '• Used Pandas for data preparation and Cleaning, NumPy for various calculations and Matplotlib for',\n",
              "  'visualizations',\n",
              "  'Virtual Smart Home Cost Estimator | HTML CSS JavaScript Nodejs Expressjs MongoDB | link',\n",
              "  '• Built a virtual smart home cost estimator in which users can select their desired location and smart home items.',\n",
              "  'It accurately calculates costs, generates detailed invoices, and provides a user query feature.',\n",
              "  '• An interactive frontend created using HTML, CSS, and JavaScript with Node.js and Express.js for the',\n",
              "  'backend and MongoDB for the database.',\n",
              "  'Skills',\n",
              "  'Programming Language: C, C++, Java, Python, HTML, CSS, JavaScript, SQL',\n",
              "  'CS fundamentals: Data Structures and Algorithms, Object Oriented Programming, Operating System, Database',\n",
              "  'Management System,Computer Network,Machine Learning,Software Engineering',\n",
              "  'Libraries and frameworks:React,Node.js, Express.js, mongoose,NumPy, Pandas,Matplotlib',\n",
              "  'Databases: MongoDB,Oracle SQL',\n",
              "  'Achievements',\n",
              "  'Specialist on codeforces with highest rating of 1402',\n",
              "  '3 star coder on Codechef with highest rating of 1647',\n",
              "  'rated in top 18.28% on Leetcode with highest rating of 1634',\n",
              "  'solved more than 1000 problems on various coding platforms like Codeforces, Codechef, Leetcode,Vjudge'],\n",
              " ['Experience',\n",
              "  'Computer Society Of India, Nirma University Nov 2022 – Sep 2023',\n",
              "  'Executive Committee Member - Credentials',\n",
              "  '• Core committee member in HackNUthon 4.0, which was a National-level Hackathon held in April 2023 in offline',\n",
              "  'mode.',\n",
              "  '• Cubix is an exclusive event specifically for Nirma University students. Within Cubix, I was responsible for setting',\n",
              "  'coding problems for the Code-Relay event.',\n",
              "  'Profiles links',\n",
              "  'Codeforces | Codechef | Leetcode',\n",
              "  'tel:8799589552',\n",
              "  'mailto:sarthakmethaniya@gmail.com',\n",
              "  'https://www.linkedin.com/in/sarthak-methaniya',\n",
              "  'https://github.com/Sarthak3539',\n",
              "  'https://github.com/Sarthak3539/Task-Mangement',\n",
              "  'https://github.com/Sarthak3539/COVID-19-DATA-ANALYSIS',\n",
              "  'https://github.com/Sarthak3539/Virtual_Smart_Home_COST_ESTIMATOR',\n",
              "  'https://drive.google.com/file/d/1_IKuda0D1xM4MQgOJeMkMC-XcA2oAbAr/view?usp=sharing',\n",
              "  'https://codeforces.com/profile/Sarthak_78',\n",
              "  'https://www.codechef.com/users/sarthak_78',\n",
              "  'https://leetcode.com/Sarthak_78/'],\n",
              " ['Education'],\n",
              " ['Projects', 'Skills', 'Achievements'],\n",
              " ['Experience', 'Profiles links']]"
            ]
          },
          "metadata": {},
          "execution_count": 101
        }
      ]
    },
    {
      "cell_type": "code",
      "source": [
        "def identify_section_type(section, work_experience_separators, education_background_separators,project_section_separators):\n",
        "    separator = section[0]\n",
        "    # print(separator)\n",
        "    for separator in work_experience_separators:\n",
        "        if separator in section:\n",
        "            return 'Work Experience'\n",
        "    for separator in education_background_separators:\n",
        "        if separator in section:\n",
        "            return 'Education'\n",
        "    for separator in project_section_separators:\n",
        "        if separator in section:\n",
        "            return 'Projects'\n",
        "    return 'Unknown'\n",
        "\n",
        "def remove_first_element(section):\n",
        "    if section and section[0] in seps:\n",
        "        return section[1:]\n",
        "    return section\n",
        "\n",
        "exp = []\n",
        "edu = []\n",
        "prj = []\n",
        "k =0\n",
        "epk = 0\n",
        "edk = 0\n",
        "# Remove the first element (separator) from each section\n",
        "for section in f2_data:\n",
        "    i = identify_section_type(section,work_experience_separators=work_experience_headlines, education_background_separators=education_background_headlines, project_section_separators = project_section_separators)\n",
        "    section = remove_first_element(section)\n",
        "    # print(i)\n",
        "    if i == 'Work Experience':\n",
        "      print('this section is of ',i)\n",
        "      for j in section:\n",
        "        exp.append(j)\n",
        "      epk = k\n",
        "    elif i == 'Education':\n",
        "      print('this section is of ',i)\n",
        "      for j in section:\n",
        "        edu.append(j)\n",
        "      edk = k\n",
        "    elif i == 'Projects':\n",
        "      print('this section is of ', i)\n",
        "      for j in section:\n",
        "        prj.append(j)\n",
        "    # print(section)\n",
        "    k+=1\n",
        "\n",
        "print(exp)\n",
        "print(edu)\n",
        "print(prj)"
      ],
      "metadata": {
        "colab": {
          "base_uri": "https://localhost:8080/"
        },
        "id": "uOMFgqQJzk9N",
        "outputId": "fef9d1f6-9c40-46c5-85be-bccfd701f509"
      },
      "execution_count": null,
      "outputs": [
        {
          "output_type": "stream",
          "name": "stdout",
          "text": [
            "this section is of  Education\n",
            "this section is of  Projects\n",
            "this section is of  Work Experience\n",
            "this section is of  Education\n",
            "this section is of  Projects\n",
            "this section is of  Work Experience\n",
            "['Computer Society Of India, Nirma University Nov 2022 – Sep 2023', 'Executive Committee Member - Credentials', '• Core committee member in HackNUthon 4.0, which was a National-level Hackathon held in April 2023 in offline', 'mode.', '• Cubix is an exclusive event specifically for Nirma University students. Within Cubix, I was responsible for setting', 'coding problems for the Code-Relay event.', 'Profiles links', 'Codeforces | Codechef | Leetcode', 'tel:8799589552', 'mailto:sarthakmethaniya@gmail.com', 'https://www.linkedin.com/in/sarthak-methaniya', 'https://github.com/Sarthak3539', 'https://github.com/Sarthak3539/Task-Mangement', 'https://github.com/Sarthak3539/COVID-19-DATA-ANALYSIS', 'https://github.com/Sarthak3539/Virtual_Smart_Home_COST_ESTIMATOR', 'https://drive.google.com/file/d/1_IKuda0D1xM4MQgOJeMkMC-XcA2oAbAr/view?usp=sharing', 'https://codeforces.com/profile/Sarthak_78', 'https://www.codechef.com/users/sarthak_78', 'https://leetcode.com/Sarthak_78/', 'Profiles links']\n",
            "['Institute of Technology Nirma University 2021 - 2025', 'B.tech in Computer Science and Engineering(CGPA of 7.61) Ahmedabad,Gujarat, India', 'Vivekanand Science Acadamy 2019 - 2021', '12th Science(Percentage:93.8%) Morbi,Gujarat, India']\n",
            "['Task Management | HTML CSS JavaScript Nodejs Expressjs MongoDB | link', '• Created a Task Management web app in which users can list their tasks and mark them as completed when they’re', 'done.', '• Implemented user authentication, enabling users to efficiently create, update, find, and delete tasks.', '• Utilized MongoDB for saving data of user detail and user tasks, Express.js for RESTful API, and Node.js as', 'the runtime environment.', 'Covid 19 Data Analysis | Python | link', '• Created a COVID-19 analysis in Jupyter Notebook for Indian states and countries worldwide, showcasing', 'various COVID-19 parameters such as active cases, vaccination rates, and infection rates', '• Used Pandas for data preparation and Cleaning, NumPy for various calculations and Matplotlib for', 'visualizations', 'Virtual Smart Home Cost Estimator | HTML CSS JavaScript Nodejs Expressjs MongoDB | link', '• Built a virtual smart home cost estimator in which users can select their desired location and smart home items.', 'It accurately calculates costs, generates detailed invoices, and provides a user query feature.', '• An interactive frontend created using HTML, CSS, and JavaScript with Node.js and Express.js for the', 'backend and MongoDB for the database.', 'Skills', 'Programming Language: C, C++, Java, Python, HTML, CSS, JavaScript, SQL', 'CS fundamentals: Data Structures and Algorithms, Object Oriented Programming, Operating System, Database', 'Management System,Computer Network,Machine Learning,Software Engineering', 'Libraries and frameworks:React,Node.js, Express.js, mongoose,NumPy, Pandas,Matplotlib', 'Databases: MongoDB,Oracle SQL', 'Achievements', 'Specialist on codeforces with highest rating of 1402', '3 star coder on Codechef with highest rating of 1647', 'rated in top 18.28% on Leetcode with highest rating of 1634', 'solved more than 1000 problems on various coding platforms like Codeforces, Codechef, Leetcode,Vjudge', 'Skills', 'Achievements']\n"
          ]
        }
      ]
    },
    {
      "cell_type": "code",
      "source": [],
      "metadata": {
        "id": "hTdD-TBZ1gIl"
      },
      "execution_count": null,
      "outputs": []
    },
    {
      "cell_type": "markdown",
      "source": [
        "# eduction date wise"
      ],
      "metadata": {
        "id": "CxiOUfQPqf7H"
      }
    },
    {
      "cell_type": "code",
      "source": [
        "import re\n",
        "from dateutil.parser import parse\n",
        "\n",
        "# Sample employment history text\n",
        "employment_history_text = [' '.join(section) for section in edu]\n",
        "# print(employment_history_text)\n",
        "# strr=''\n",
        "\n",
        "# for x in edu:\n",
        "#    strr+=str(x)\n",
        "# employment_history_text = strr\n",
        "\n",
        "\n",
        "# Initialize lists to store job entries\n",
        "job_entries = []\n",
        "\n",
        "# Regular expression pattern to match date formats\n",
        "date_pattern = re.compile(r'(\\b\\d{4}\\b|\\b(?:Jan|Feb|Mar|Apr|May|Jun|Jul|Aug|Sep|Oct|Nov|Dec)\\b-\\d{2})')\n",
        "\n",
        "# Extract job roles and dates using pattern matching\n",
        "for line in edu:\n",
        "    match = date_pattern.findall(line)\n",
        "    if match:\n",
        "        dates = [m.strip() for m in match]\n",
        "        job_role = re.sub('|'.join(dates), '', line).strip(' -')\n",
        "        start_date, end_date = dates if len(dates) > 1 else (dates[0], None)\n",
        "\n",
        "        # Parse start date\n",
        "        if '-' in start_date:\n",
        "            start_month, start_year = start_date.split('-')\n",
        "            start_year = int(start_year)\n",
        "            start_year = start_year + 1900 if start_year < 100 else start_year\n",
        "            start_date = f\"{start_year}-{start_month}\"\n",
        "\n",
        "        # Parse end date\n",
        "        if end_date:\n",
        "            if '-' in end_date:\n",
        "                end_month, end_year = end_date.split('-')\n",
        "                end_year = int(end_year)\n",
        "                end_year = end_year + 1900 if end_year < 100 else end_year\n",
        "                end_date = f\"{end_year}-{end_month}\"\n",
        "\n",
        "        job_entries.append({'Job Role': job_role, 'Start Date': start_date.strip(), 'End Date': end_date.strip() if end_date else 'Present'})\n",
        "\n",
        "# Print the extracted information\n",
        "for entry in job_entries:\n",
        "    print(\"Institution Name:\", entry['Job Role'])\n",
        "    print(\"Start Date:\", entry['Start Date'])\n",
        "    print(\"End Date:\", entry['End Date'])\n",
        "    print(\"------------------------------\")\n"
      ],
      "metadata": {
        "colab": {
          "base_uri": "https://localhost:8080/"
        },
        "id": "sEHMaPWVdOrp",
        "outputId": "9e099512-03a1-49a2-aa41-11c4b86d73f9"
      },
      "execution_count": null,
      "outputs": [
        {
          "output_type": "stream",
          "name": "stdout",
          "text": [
            "Institution Name: Institute of Technology Nirma University\n",
            "Start Date: 2021\n",
            "End Date: 2025\n",
            "------------------------------\n",
            "Institution Name: Vivekanand Science Acadamy\n",
            "Start Date: 2019\n",
            "End Date: 2021\n",
            "------------------------------\n"
          ]
        }
      ]
    },
    {
      "cell_type": "markdown",
      "source": [
        "# Experience Date wise"
      ],
      "metadata": {
        "id": "K9hkWDTOqj28"
      }
    },
    {
      "cell_type": "code",
      "source": [
        "import re\n",
        "from dateutil.parser import parse\n",
        "\n",
        "# Sample employment history text\n",
        "employment_history_text = [' '.join(section) for section in edu]\n",
        "# print(employment_history_text)\n",
        "# strr=''\n",
        "\n",
        "# for x in edu:\n",
        "#    strr+=str(x)\n",
        "# employment_history_text = strr\n",
        "\n",
        "\n",
        "# Initialize lists to store job entries\n",
        "job_entries = []\n",
        "\n",
        "# Regular expression pattern to match date formats\n",
        "date_pattern = re.compile(r'(\\b\\d{4}\\b|\\b(?:Jan|Feb|Mar|Apr|May|Jun|Jul|Aug|Sep|Oct|Nov|Dec)\\b-\\d{2})')\n",
        "\n",
        "# Extract job roles and dates using pattern matching\n",
        "for line in exp:\n",
        "    match = date_pattern.findall(line)\n",
        "    if match:\n",
        "        dates = [m.strip() for m in match]\n",
        "        job_role = re.sub('|'.join(dates), '', line).strip(' -')\n",
        "        start_date, end_date = dates if len(dates) > 1 else (dates[0], None)\n",
        "\n",
        "        # Parse start date\n",
        "        if '-' in start_date:\n",
        "            start_month, start_year = start_date.split('-')\n",
        "            start_year = int(start_year)\n",
        "            start_year = start_year + 1900 if start_year < 100 else start_year\n",
        "            start_date = f\"{start_year}-{start_month}\"\n",
        "\n",
        "        # Parse end date\n",
        "        if end_date:\n",
        "            if '-' in end_date:\n",
        "                end_month, end_year = end_date.split('-')\n",
        "                end_year = int(end_year)\n",
        "                end_year = end_year + 1900 if end_year < 100 else end_year\n",
        "                end_date = f\"{end_year}-{end_month}\"\n",
        "\n",
        "        job_entries.append({'Job Role': job_role, 'Start Date': start_date.strip(), 'End Date': end_date.strip() if end_date else 'Present'})\n",
        "\n",
        "# Print the extracted information\n",
        "for entry in job_entries:\n",
        "    print(\"Job Role:\", entry['Job Role'])\n",
        "    print(\"Start Date:\", entry['Start Date'])\n",
        "    print(\"End Date:\", entry['End Date'])\n",
        "    print(\"------------------------------\")\n"
      ],
      "metadata": {
        "colab": {
          "base_uri": "https://localhost:8080/"
        },
        "id": "yjfRvdCOqm83",
        "outputId": "3e978f7a-551d-4fb5-c93f-933098c34f6c"
      },
      "execution_count": null,
      "outputs": [
        {
          "output_type": "stream",
          "name": "stdout",
          "text": [
            "Job Role: Computer Society Of India, Nirma University Nov  – Sep\n",
            "Start Date: 2022\n",
            "End Date: 2023\n",
            "------------------------------\n",
            "Job Role: • Core committee member in HackNUthon 4.0, which was a National-level Hackathon held in April  in offline\n",
            "Start Date: 2023\n",
            "End Date: Present\n",
            "------------------------------\n"
          ]
        }
      ]
    },
    {
      "cell_type": "code",
      "source": [
        "#E-MAIL\n",
        "import re\n",
        "def get_email_addresses(string):\n",
        "    r = re.compile(r'[\\w\\.-]+@[\\w\\.-]+')\n",
        "    return r.findall(string)\n",
        "email = set(get_email_addresses(text))\n",
        "print(set(email))\n",
        "parsed_content = {}\n",
        "parsed_content['E-mail'] = email"
      ],
      "metadata": {
        "colab": {
          "base_uri": "https://localhost:8080/"
        },
        "id": "cFQ__QpbL5us",
        "outputId": "5057c96c-9b0c-40ac-da3f-b01c029903d8"
      },
      "execution_count": 104,
      "outputs": [
        {
          "output_type": "stream",
          "name": "stdout",
          "text": [
            "{'sarthakmethaniya@gmail.com'}\n"
          ]
        }
      ]
    },
    {
      "cell_type": "markdown",
      "source": [
        "#Extracting Phone Number"
      ],
      "metadata": {
        "id": "JMm4WjKXMeMv"
      }
    },
    {
      "cell_type": "code",
      "source": [
        "#PHONE NUMBER\n",
        "import re\n",
        "def get_phone_numbers(string):\n",
        "    r = re.compile(r'(\\d{3}[-\\.\\s]??\\d{3}[-\\.\\s]??\\d{4}|\\(\\d{3}\\)\\s*\\d{3}[-\\.\\s]??\\d{4}|\\d{3}[-\\.\\s]??\\d{4})')\n",
        "    r = re.compile(r'\\d{10}')\n",
        "    phone_numbers = r.findall(string)\n",
        "    return [re.sub(r'\\D', '', num) for num in phone_numbers]\n",
        "\n",
        "phone_number= set(get_phone_numbers(text))\n",
        "if len(phone_number) <= 10:\n",
        "    print(set(phone_number))\n",
        "    parsed_content['Phone number'] = phone_number"
      ],
      "metadata": {
        "colab": {
          "base_uri": "https://localhost:8080/"
        },
        "id": "VFuwSHIQMXgf",
        "outputId": "3154d3e4-c663-4cbd-b18d-04a0d53f41d2"
      },
      "execution_count": 105,
      "outputs": [
        {
          "output_type": "stream",
          "name": "stdout",
          "text": [
            "{'8799589552'}\n"
          ]
        }
      ]
    },
    {
      "cell_type": "code",
      "source": [
        "import spacy\n",
        "nlp = spacy.load('en_core_web_sm')\n",
        "from spacy.matcher import Matcher\n",
        "matcher = Matcher(nlp.vocab)\n",
        "\n",
        "def extract_name(text):\n",
        "   nlp_text = nlp(text)\n",
        "\n",
        "   # First name and Last name are always Proper Nouns\n",
        "   pattern = [{'POS': 'PROPN'}, {'POS': 'PROPN'}]\n",
        "\n",
        "   matcher.add('NAME', [pattern], on_match = None)\n",
        "\n",
        "   matches = matcher(nlp_text)\n",
        "\n",
        "   for match_id, start, end in matches:\n",
        "       span = nlp_text[start:end]\n",
        "       return span.text\n",
        "\n",
        "name = extract_name(text)\n",
        "print(name)\n",
        "parsed_content['Name'] =  name"
      ],
      "metadata": {
        "colab": {
          "base_uri": "https://localhost:8080/"
        },
        "id": "iMvKC7JwMqiY",
        "outputId": "57e26612-8d1b-4c1c-a082-cfc8152ebccf"
      },
      "execution_count": 106,
      "outputs": [
        {
          "output_type": "stream",
          "name": "stdout",
          "text": [
            "Sarthak Methaniya\n"
          ]
        }
      ]
    },
    {
      "cell_type": "code",
      "source": [
        "Keywords = [\"education\",\n",
        "            \"summary\",\n",
        "            \"accomplishments\",\n",
        "            \"executive profile\",\n",
        "            \"professional profile\",\n",
        "            \"personal profile\",\n",
        "            \"work background\",\n",
        "            \"academic profile\",\n",
        "            \"other activities\",\n",
        "            \"qualifications\",\n",
        "            \"experience\",\n",
        "            \"interests\",\n",
        "            \"skills\",\n",
        "            \"achievements\",\n",
        "            \"publications\",\n",
        "            \"publication\",\n",
        "            \"certifications\",\n",
        "            \"workshops\",\n",
        "            \"projects\",\n",
        "            \"internships\",\n",
        "            \"trainings\",\n",
        "            \"hobbies\",\n",
        "            \"overview\",\n",
        "            \"objective\",\n",
        "            \"position of responsibility\",\n",
        "            \"jobs\"\n",
        "           ]"
      ],
      "metadata": {
        "id": "FBZ2ubmPNrVw"
      },
      "execution_count": 107,
      "outputs": []
    },
    {
      "cell_type": "code",
      "source": [
        "text = text.replace(\"\\n\",\" \")\n",
        "text = text.replace(\"[^a-zA-Z0-9]\", \" \");\n",
        "re.sub('\\W+','', text)\n",
        "text = text.lower()\n",
        "print(text)"
      ],
      "metadata": {
        "colab": {
          "base_uri": "https://localhost:8080/"
        },
        "id": "zdpcA0bkNywo",
        "outputId": "7674efd5-9560-47c8-f171-71ec685eaee1"
      },
      "execution_count": 108,
      "outputs": [
        {
          "output_type": "stream",
          "name": "stdout",
          "text": [
            "                                     sarthak methaniya  +91 8799589552 |  sarthakmethaniya@gmail.com |  sarthak-methaniya | � sarthak3539  education  institute of technology nirma university 2021 - 2025 b.tech in computer science and engineering(cgpa of 7.61) ahmedabad,gujarat, india  vivekanand science acadamy 2019 - 2021 12th science(percentage:93.8%) morbi,gujarat, india  projects  task management | html css javascript nodejs expressjs mongodb | link • created a task management web app in which users can list their tasks and mark them as completed when they’re done.  • implemented user authentication, enabling users to efficiently create, update, find, and delete tasks.  • utilized mongodb for saving data of user detail and user tasks, express.js for restful api, and node.js as the runtime environment.  covid 19 data analysis | python | link • created a covid-19 analysis in jupyter notebook for indian states and countries worldwide, showcasing various covid-19 parameters such as active cases, vaccination rates, and infection rates  • used pandas for data preparation and cleaning, numpy for various calculations and matplotlib for visualizations  virtual smart home cost estimator | html css javascript nodejs expressjs mongodb | link • built a virtual smart home cost estimator in which users can select their desired location and smart home items. it accurately calculates costs, generates detailed invoices, and provides a user query feature.  • an interactive frontend created using html, css, and javascript with node.js and express.js for the backend and mongodb for the database.  skills  programming language: c, c++, java, python, html, css, javascript, sql  cs fundamentals: data structures and algorithms, object oriented programming, operating system, database management system,computer network,machine learning,software engineering libraries and frameworks:react,node.js, express.js, mongoose,numpy, pandas,matplotlib databases: mongodb,oracle sql  achievements  specialist on codeforces with highest rating of 1402  3 star coder on codechef with highest rating of 1647  rated in top 18.28% on leetcode with highest rating of 1634  solved more than 1000 problems on various coding platforms like codeforces, codechef, leetcode,vjudge  experience  computer society of india, nirma university nov 2022 – sep 2023 executive committee member - credentials  • core committee member in hacknuthon 4.0, which was a national-level hackathon held in april 2023 in offline mode.  • cubix is an exclusive event specifically for nirma university students. within cubix, i was responsible for setting coding problems for the code-relay event.  profiles links  codeforces | codechef | leetcode  tel:8799589552 mailto:sarthakmethaniya@gmail.com https://www.linkedin.com/in/sarthak-methaniya https://github.com/sarthak3539 https://github.com/sarthak3539/task-mangement https://github.com/sarthak3539/covid-19-data-analysis https://github.com/sarthak3539/virtual_smart_home_cost_estimator https://drive.google.com/file/d/1_ikuda0d1xm4mqgojemkmc-xca2oabar/view?usp=sharing https://codeforces.com/profile/sarthak_78 https://www.codechef.com/users/sarthak_78 https://leetcode.com/sarthak_78/  \teducation \tprojects \tskills \tachievements \texperience \tprofiles links  \n"
          ]
        }
      ]
    },
    {
      "cell_type": "code",
      "source": [
        "content = {}\n",
        "indices = []\n",
        "keys = []\n",
        "for key in Keywords:\n",
        "    try:\n",
        "        content[key] = text[text.index(key) + len(key):]\n",
        "        indices.append(text.index(key))\n",
        "        keys.append(key)\n",
        "    except:\n",
        "        pass"
      ],
      "metadata": {
        "id": "J_OpMNriN7hV"
      },
      "execution_count": 109,
      "outputs": []
    },
    {
      "cell_type": "code",
      "source": [
        "#Sorting the indices\n",
        "zipped_lists = zip(indices, keys)\n",
        "sorted_pairs = sorted(zipped_lists)\n",
        "sorted_pairs\n",
        "\n",
        "tuples = zip(*sorted_pairs)\n",
        "indices, keys = [ list(tuple) for tuple in  tuples]\n",
        "keys"
      ],
      "metadata": {
        "colab": {
          "base_uri": "https://localhost:8080/"
        },
        "id": "cDpN1Kn-OAb2",
        "outputId": "98c37475-6ab0-4f6d-ddb2-e51c5a040b85"
      },
      "execution_count": 110,
      "outputs": [
        {
          "output_type": "execute_result",
          "data": {
            "text/plain": [
              "['education', 'projects', 'skills', 'achievements', 'experience']"
            ]
          },
          "metadata": {},
          "execution_count": 110
        }
      ]
    },
    {
      "cell_type": "code",
      "source": [
        "content = []\n",
        "for idx in range(len(indices)):\n",
        "    if idx != len(indices)-1:\n",
        "        content.append(text[indices[idx]: indices[idx+1]])\n",
        "    else:\n",
        "        content.append(text[indices[idx]: ])"
      ],
      "metadata": {
        "id": "z_APVKuWOZrl"
      },
      "execution_count": 111,
      "outputs": []
    },
    {
      "cell_type": "code",
      "source": [
        "for i in range(len(indices)):\n",
        "    parsed_content[keys[i]] = content[i]"
      ],
      "metadata": {
        "id": "uSq0MQVAOa70"
      },
      "execution_count": 112,
      "outputs": []
    },
    {
      "cell_type": "code",
      "source": [
        "#Displaying the parsed content\n",
        "parsed_content\n",
        "\n"
      ],
      "metadata": {
        "colab": {
          "base_uri": "https://localhost:8080/"
        },
        "id": "bX7oVWK5OhJ9",
        "outputId": "d51c9796-1334-44d3-85f6-0a0a0fa5e52b"
      },
      "execution_count": 113,
      "outputs": [
        {
          "output_type": "execute_result",
          "data": {
            "text/plain": [
              "{'E-mail': {'sarthakmethaniya@gmail.com'},\n",
              " 'Phone number': {'8799589552'},\n",
              " 'Name': 'Sarthak Methaniya',\n",
              " 'education': 'education  institute of technology nirma university 2021 - 2025 b.tech in computer science and engineering(cgpa of 7.61) ahmedabad,gujarat, india  vivekanand science acadamy 2019 - 2021 12th science(percentage:93.8%) morbi,gujarat, india  ',\n",
              " 'projects': 'projects  task management | html css javascript nodejs expressjs mongodb | link • created a task management web app in which users can list their tasks and mark them as completed when they’re done.  • implemented user authentication, enabling users to efficiently create, update, find, and delete tasks.  • utilized mongodb for saving data of user detail and user tasks, express.js for restful api, and node.js as the runtime environment.  covid 19 data analysis | python | link • created a covid-19 analysis in jupyter notebook for indian states and countries worldwide, showcasing various covid-19 parameters such as active cases, vaccination rates, and infection rates  • used pandas for data preparation and cleaning, numpy for various calculations and matplotlib for visualizations  virtual smart home cost estimator | html css javascript nodejs expressjs mongodb | link • built a virtual smart home cost estimator in which users can select their desired location and smart home items. it accurately calculates costs, generates detailed invoices, and provides a user query feature.  • an interactive frontend created using html, css, and javascript with node.js and express.js for the backend and mongodb for the database.  ',\n",
              " 'skills': 'skills  programming language: c, c++, java, python, html, css, javascript, sql  cs fundamentals: data structures and algorithms, object oriented programming, operating system, database management system,computer network,machine learning,software engineering libraries and frameworks:react,node.js, express.js, mongoose,numpy, pandas,matplotlib databases: mongodb,oracle sql  ',\n",
              " 'achievements': 'achievements  specialist on codeforces with highest rating of 1402  3 star coder on codechef with highest rating of 1647  rated in top 18.28% on leetcode with highest rating of 1634  solved more than 1000 problems on various coding platforms like codeforces, codechef, leetcode,vjudge  ',\n",
              " 'experience': 'experience  computer society of india, nirma university nov 2022 – sep 2023 executive committee member - credentials  • core committee member in hacknuthon 4.0, which was a national-level hackathon held in april 2023 in offline mode.  • cubix is an exclusive event specifically for nirma university students. within cubix, i was responsible for setting coding problems for the code-relay event.  profiles links  codeforces | codechef | leetcode  tel:8799589552 mailto:sarthakmethaniya@gmail.com https://www.linkedin.com/in/sarthak-methaniya https://github.com/sarthak3539 https://github.com/sarthak3539/task-mangement https://github.com/sarthak3539/covid-19-data-analysis https://github.com/sarthak3539/virtual_smart_home_cost_estimator https://drive.google.com/file/d/1_ikuda0d1xm4mqgojemkmc-xca2oabar/view?usp=sharing https://codeforces.com/profile/sarthak_78 https://www.codechef.com/users/sarthak_78 https://leetcode.com/sarthak_78/  \\teducation \\tprojects \\tskills \\tachievements \\texperience \\tprofiles links  '}"
            ]
          },
          "metadata": {},
          "execution_count": 113
        }
      ]
    },
    {
      "cell_type": "code",
      "source": [],
      "metadata": {
        "id": "IeUIOwmEOiQU"
      },
      "execution_count": 113,
      "outputs": []
    },
    {
      "cell_type": "markdown",
      "source": [
        "#All Skills"
      ],
      "metadata": {
        "id": "YknnMtkp543Y"
      }
    },
    {
      "cell_type": "code",
      "source": [],
      "metadata": {
        "id": "PsdNWhL-56bx"
      },
      "execution_count": null,
      "outputs": []
    },
    {
      "cell_type": "markdown",
      "source": [
        "\n",
        "\n",
        "```\n",
        "# This is formatted as code\n",
        "```\n",
        "\n",
        "fetching files of google drive"
      ],
      "metadata": {
        "id": "_T8FvzJY6gij"
      }
    },
    {
      "cell_type": "code",
      "source": [
        "from google.colab import drive\n",
        "drive.mount('/content/drive')"
      ],
      "metadata": {
        "colab": {
          "base_uri": "https://localhost:8080/"
        },
        "id": "KjBMrCw_6J6e",
        "outputId": "128d12e4-7a80-414b-9d6c-5dfa8af3b0b8"
      },
      "execution_count": null,
      "outputs": [
        {
          "output_type": "stream",
          "name": "stdout",
          "text": [
            "Drive already mounted at /content/drive; to attempt to forcibly remount, call drive.mount(\"/content/drive\", force_remount=True).\n"
          ]
        }
      ]
    },
    {
      "cell_type": "code",
      "source": [],
      "metadata": {
        "id": "ahdUSjtm6vf5"
      },
      "execution_count": null,
      "outputs": []
    },
    {
      "cell_type": "code",
      "source": [
        "with open('/content/drive/MyDrive/Skill_dataset.txt', 'r', encoding='utf-8') as file:\n",
        "    data = file.read()\n",
        "\n",
        "data=data.split(\"\\n\")\n",
        "data = [word.lower() for word in data]\n"
      ],
      "metadata": {
        "id": "v6DHYI426J9_"
      },
      "execution_count": null,
      "outputs": []
    },
    {
      "cell_type": "code",
      "source": [
        "def extract_skills(words,skill_dataset):\n",
        "    words=re.findall(r\"[\\w']+\", words)\n",
        "    stop_words = set(stopwords.words(\"english\"))\n",
        "    bigram =[]\n",
        "\n",
        "    new_words=[]\n",
        "    for word in words:\n",
        "      if word.casefold() not in stop_words:\n",
        "        new_words.append(word)\n",
        "\n",
        "    words=new_words\n",
        "\n",
        "\n",
        "    for i in range(len(words)-1):\n",
        "        cur=words[i]+\" \"+words[i+1]\n",
        "        bigram.append(cur)\n",
        "\n",
        "    lower_words=[]\n",
        "    lower_bigram=[]\n",
        "\n",
        "    for x in words:\n",
        "        lower_words.append(x.lower())\n",
        "\n",
        "    for x in bigram:\n",
        "        lower_bigram.append(x.lower())\n",
        "\n",
        "    stop_words = set(stopwords.words(\"english\"))\n",
        "    filtered_words = []\n",
        "    for word in lower_words:\n",
        "      if word.casefold() not in stop_words:\n",
        "        filtered_words.append(word)\n",
        "\n",
        "    filtered_words=lower_words;\n",
        "    skills = set()\n",
        "    used=set()\n",
        "    for w in lower_bigram:\n",
        "        if w in data:\n",
        "            skills.add(w)\n",
        "            used.update(w.split())\n",
        "\n",
        "\n",
        "    for w in filtered_words:\n",
        "        if w in used : continue\n",
        "        if w in data:\n",
        "            skills.add(w)\n",
        "\n",
        "    return skills\n",
        "\n",
        "\n",
        "\n",
        "\n",
        "\n"
      ],
      "metadata": {
        "id": "7ujovgeO6LUx"
      },
      "execution_count": null,
      "outputs": []
    },
    {
      "cell_type": "code",
      "source": [
        "skills=extract_skills(text,data)"
      ],
      "metadata": {
        "id": "r9kOcttQ6OkY"
      },
      "execution_count": null,
      "outputs": []
    },
    {
      "cell_type": "code",
      "source": [
        "skills"
      ],
      "metadata": {
        "colab": {
          "base_uri": "https://localhost:8080/"
        },
        "id": "68YPIdTJ6Omn",
        "outputId": "aa3adf08-7177-467c-e6fe-17050624028a"
      },
      "execution_count": null,
      "outputs": [
        {
          "output_type": "execute_result",
          "data": {
            "text/plain": [
              "{'algorithms',\n",
              " 'api',\n",
              " 'app',\n",
              " 'authentication',\n",
              " 'c',\n",
              " 'calculations',\n",
              " 'com',\n",
              " 'computer science',\n",
              " 'credentials',\n",
              " 'cs',\n",
              " 'css',\n",
              " 'data analysis',\n",
              " 'data preparation',\n",
              " 'database',\n",
              " 'databases',\n",
              " 'drive',\n",
              " 'express',\n",
              " 'fundamentals',\n",
              " 'github',\n",
              " 'gmail',\n",
              " 'google',\n",
              " 'html',\n",
              " 'https',\n",
              " 'infection',\n",
              " 'java',\n",
              " 'javascript',\n",
              " 'linkedin',\n",
              " 'machine learning',\n",
              " 'management system',\n",
              " 'matplotlib',\n",
              " 'mongodb',\n",
              " 'numpy',\n",
              " 'oracle',\n",
              " 'pandas',\n",
              " 'platforms',\n",
              " 'profiles',\n",
              " 'python',\n",
              " 'relay',\n",
              " 'smart home',\n",
              " 'sql',\n",
              " 'star',\n",
              " 'task management',\n",
              " 'technology',\n",
              " 'web',\n",
              " 'www'}"
            ]
          },
          "metadata": {},
          "execution_count": 95
        }
      ]
    },
    {
      "cell_type": "markdown",
      "source": [
        "# predicting title"
      ],
      "metadata": {
        "id": "AZtllMC46XWY"
      }
    },
    {
      "cell_type": "code",
      "source": [
        "model = KeyedVectors.load_word2vec_format(\"/content/drive/MyDrive/GoogleNews-vectors-negative300.bin.gz\",binary=True,limit=500000)"
      ],
      "metadata": {
        "id": "ZFm6gIKx6ULX"
      },
      "execution_count": null,
      "outputs": []
    },
    {
      "cell_type": "code",
      "source": [
        "df=pd.read_csv(\"/content/drive/MyDrive//Occupation_Data_CSV.csv\")"
      ],
      "metadata": {
        "id": "SCwwafzi7HqT"
      },
      "execution_count": null,
      "outputs": []
    },
    {
      "cell_type": "code",
      "source": [
        "df"
      ],
      "metadata": {
        "colab": {
          "base_uri": "https://localhost:8080/",
          "height": 423
        },
        "id": "HE2xTaEq7cb2",
        "outputId": "786be81b-d33f-4b19-8a01-0c4199240200"
      },
      "execution_count": null,
      "outputs": [
        {
          "output_type": "execute_result",
          "data": {
            "text/plain": [
              "    O*NET-SOC Code                                              Title  \\\n",
              "0       11-1011.00                                   Chief Executives   \n",
              "1       11-1011.03                      Chief Sustainability Officers   \n",
              "2       11-1021.00                    General and Operations Managers   \n",
              "3       11-1031.00                                        Legislators   \n",
              "4       11-3012.00                   Administrative Services Managers   \n",
              "..             ...                                                ...   \n",
              "393     55-1017.00                            Special Forces Officers   \n",
              "394     55-3015.00             Command and Control Center Specialists   \n",
              "395     55-3016.00                                           Infantry   \n",
              "396     55-3018.00                                     Special Forces   \n",
              "397     55-3019.00  Military Enlisted Tactical Operations and Air/...   \n",
              "\n",
              "                                           Description  \n",
              "0    Determine and formulate policies and provide o...  \n",
              "1    Communicate and coordinate with management, sh...  \n",
              "2    Plan, direct, or coordinate the operations of ...  \n",
              "3    Develop, introduce, or enact laws and statutes...  \n",
              "4    Plan, direct, or coordinate one or more admini...  \n",
              "..                                                 ...  \n",
              "393  Lead elite teams that implement unconventional...  \n",
              "394  Operate and monitor communications, detection,...  \n",
              "395  Operate weapons and equipment in ground combat...  \n",
              "396  Implement unconventional operations by air, la...  \n",
              "397  All military enlisted tactical operations and ...  \n",
              "\n",
              "[398 rows x 3 columns]"
            ],
            "text/html": [
              "\n",
              "  <div id=\"df-f7b71239-a4d2-4b98-94ea-19b03dc8aaac\" class=\"colab-df-container\">\n",
              "    <div>\n",
              "<style scoped>\n",
              "    .dataframe tbody tr th:only-of-type {\n",
              "        vertical-align: middle;\n",
              "    }\n",
              "\n",
              "    .dataframe tbody tr th {\n",
              "        vertical-align: top;\n",
              "    }\n",
              "\n",
              "    .dataframe thead th {\n",
              "        text-align: right;\n",
              "    }\n",
              "</style>\n",
              "<table border=\"1\" class=\"dataframe\">\n",
              "  <thead>\n",
              "    <tr style=\"text-align: right;\">\n",
              "      <th></th>\n",
              "      <th>O*NET-SOC Code</th>\n",
              "      <th>Title</th>\n",
              "      <th>Description</th>\n",
              "    </tr>\n",
              "  </thead>\n",
              "  <tbody>\n",
              "    <tr>\n",
              "      <th>0</th>\n",
              "      <td>11-1011.00</td>\n",
              "      <td>Chief Executives</td>\n",
              "      <td>Determine and formulate policies and provide o...</td>\n",
              "    </tr>\n",
              "    <tr>\n",
              "      <th>1</th>\n",
              "      <td>11-1011.03</td>\n",
              "      <td>Chief Sustainability Officers</td>\n",
              "      <td>Communicate and coordinate with management, sh...</td>\n",
              "    </tr>\n",
              "    <tr>\n",
              "      <th>2</th>\n",
              "      <td>11-1021.00</td>\n",
              "      <td>General and Operations Managers</td>\n",
              "      <td>Plan, direct, or coordinate the operations of ...</td>\n",
              "    </tr>\n",
              "    <tr>\n",
              "      <th>3</th>\n",
              "      <td>11-1031.00</td>\n",
              "      <td>Legislators</td>\n",
              "      <td>Develop, introduce, or enact laws and statutes...</td>\n",
              "    </tr>\n",
              "    <tr>\n",
              "      <th>4</th>\n",
              "      <td>11-3012.00</td>\n",
              "      <td>Administrative Services Managers</td>\n",
              "      <td>Plan, direct, or coordinate one or more admini...</td>\n",
              "    </tr>\n",
              "    <tr>\n",
              "      <th>...</th>\n",
              "      <td>...</td>\n",
              "      <td>...</td>\n",
              "      <td>...</td>\n",
              "    </tr>\n",
              "    <tr>\n",
              "      <th>393</th>\n",
              "      <td>55-1017.00</td>\n",
              "      <td>Special Forces Officers</td>\n",
              "      <td>Lead elite teams that implement unconventional...</td>\n",
              "    </tr>\n",
              "    <tr>\n",
              "      <th>394</th>\n",
              "      <td>55-3015.00</td>\n",
              "      <td>Command and Control Center Specialists</td>\n",
              "      <td>Operate and monitor communications, detection,...</td>\n",
              "    </tr>\n",
              "    <tr>\n",
              "      <th>395</th>\n",
              "      <td>55-3016.00</td>\n",
              "      <td>Infantry</td>\n",
              "      <td>Operate weapons and equipment in ground combat...</td>\n",
              "    </tr>\n",
              "    <tr>\n",
              "      <th>396</th>\n",
              "      <td>55-3018.00</td>\n",
              "      <td>Special Forces</td>\n",
              "      <td>Implement unconventional operations by air, la...</td>\n",
              "    </tr>\n",
              "    <tr>\n",
              "      <th>397</th>\n",
              "      <td>55-3019.00</td>\n",
              "      <td>Military Enlisted Tactical Operations and Air/...</td>\n",
              "      <td>All military enlisted tactical operations and ...</td>\n",
              "    </tr>\n",
              "  </tbody>\n",
              "</table>\n",
              "<p>398 rows × 3 columns</p>\n",
              "</div>\n",
              "    <div class=\"colab-df-buttons\">\n",
              "\n",
              "  <div class=\"colab-df-container\">\n",
              "    <button class=\"colab-df-convert\" onclick=\"convertToInteractive('df-f7b71239-a4d2-4b98-94ea-19b03dc8aaac')\"\n",
              "            title=\"Convert this dataframe to an interactive table.\"\n",
              "            style=\"display:none;\">\n",
              "\n",
              "  <svg xmlns=\"http://www.w3.org/2000/svg\" height=\"24px\" viewBox=\"0 -960 960 960\">\n",
              "    <path d=\"M120-120v-720h720v720H120Zm60-500h600v-160H180v160Zm220 220h160v-160H400v160Zm0 220h160v-160H400v160ZM180-400h160v-160H180v160Zm440 0h160v-160H620v160ZM180-180h160v-160H180v160Zm440 0h160v-160H620v160Z\"/>\n",
              "  </svg>\n",
              "    </button>\n",
              "\n",
              "  <style>\n",
              "    .colab-df-container {\n",
              "      display:flex;\n",
              "      gap: 12px;\n",
              "    }\n",
              "\n",
              "    .colab-df-convert {\n",
              "      background-color: #E8F0FE;\n",
              "      border: none;\n",
              "      border-radius: 50%;\n",
              "      cursor: pointer;\n",
              "      display: none;\n",
              "      fill: #1967D2;\n",
              "      height: 32px;\n",
              "      padding: 0 0 0 0;\n",
              "      width: 32px;\n",
              "    }\n",
              "\n",
              "    .colab-df-convert:hover {\n",
              "      background-color: #E2EBFA;\n",
              "      box-shadow: 0px 1px 2px rgba(60, 64, 67, 0.3), 0px 1px 3px 1px rgba(60, 64, 67, 0.15);\n",
              "      fill: #174EA6;\n",
              "    }\n",
              "\n",
              "    .colab-df-buttons div {\n",
              "      margin-bottom: 4px;\n",
              "    }\n",
              "\n",
              "    [theme=dark] .colab-df-convert {\n",
              "      background-color: #3B4455;\n",
              "      fill: #D2E3FC;\n",
              "    }\n",
              "\n",
              "    [theme=dark] .colab-df-convert:hover {\n",
              "      background-color: #434B5C;\n",
              "      box-shadow: 0px 1px 3px 1px rgba(0, 0, 0, 0.15);\n",
              "      filter: drop-shadow(0px 1px 2px rgba(0, 0, 0, 0.3));\n",
              "      fill: #FFFFFF;\n",
              "    }\n",
              "  </style>\n",
              "\n",
              "    <script>\n",
              "      const buttonEl =\n",
              "        document.querySelector('#df-f7b71239-a4d2-4b98-94ea-19b03dc8aaac button.colab-df-convert');\n",
              "      buttonEl.style.display =\n",
              "        google.colab.kernel.accessAllowed ? 'block' : 'none';\n",
              "\n",
              "      async function convertToInteractive(key) {\n",
              "        const element = document.querySelector('#df-f7b71239-a4d2-4b98-94ea-19b03dc8aaac');\n",
              "        const dataTable =\n",
              "          await google.colab.kernel.invokeFunction('convertToInteractive',\n",
              "                                                    [key], {});\n",
              "        if (!dataTable) return;\n",
              "\n",
              "        const docLinkHtml = 'Like what you see? Visit the ' +\n",
              "          '<a target=\"_blank\" href=https://colab.research.google.com/notebooks/data_table.ipynb>data table notebook</a>'\n",
              "          + ' to learn more about interactive tables.';\n",
              "        element.innerHTML = '';\n",
              "        dataTable['output_type'] = 'display_data';\n",
              "        await google.colab.output.renderOutput(dataTable, element);\n",
              "        const docLink = document.createElement('div');\n",
              "        docLink.innerHTML = docLinkHtml;\n",
              "        element.appendChild(docLink);\n",
              "      }\n",
              "    </script>\n",
              "  </div>\n",
              "\n",
              "\n",
              "<div id=\"df-a5874cb5-7989-4d85-b0da-bb0971c191dd\">\n",
              "  <button class=\"colab-df-quickchart\" onclick=\"quickchart('df-a5874cb5-7989-4d85-b0da-bb0971c191dd')\"\n",
              "            title=\"Suggest charts\"\n",
              "            style=\"display:none;\">\n",
              "\n",
              "<svg xmlns=\"http://www.w3.org/2000/svg\" height=\"24px\"viewBox=\"0 0 24 24\"\n",
              "     width=\"24px\">\n",
              "    <g>\n",
              "        <path d=\"M19 3H5c-1.1 0-2 .9-2 2v14c0 1.1.9 2 2 2h14c1.1 0 2-.9 2-2V5c0-1.1-.9-2-2-2zM9 17H7v-7h2v7zm4 0h-2V7h2v10zm4 0h-2v-4h2v4z\"/>\n",
              "    </g>\n",
              "</svg>\n",
              "  </button>\n",
              "\n",
              "<style>\n",
              "  .colab-df-quickchart {\n",
              "      --bg-color: #E8F0FE;\n",
              "      --fill-color: #1967D2;\n",
              "      --hover-bg-color: #E2EBFA;\n",
              "      --hover-fill-color: #174EA6;\n",
              "      --disabled-fill-color: #AAA;\n",
              "      --disabled-bg-color: #DDD;\n",
              "  }\n",
              "\n",
              "  [theme=dark] .colab-df-quickchart {\n",
              "      --bg-color: #3B4455;\n",
              "      --fill-color: #D2E3FC;\n",
              "      --hover-bg-color: #434B5C;\n",
              "      --hover-fill-color: #FFFFFF;\n",
              "      --disabled-bg-color: #3B4455;\n",
              "      --disabled-fill-color: #666;\n",
              "  }\n",
              "\n",
              "  .colab-df-quickchart {\n",
              "    background-color: var(--bg-color);\n",
              "    border: none;\n",
              "    border-radius: 50%;\n",
              "    cursor: pointer;\n",
              "    display: none;\n",
              "    fill: var(--fill-color);\n",
              "    height: 32px;\n",
              "    padding: 0;\n",
              "    width: 32px;\n",
              "  }\n",
              "\n",
              "  .colab-df-quickchart:hover {\n",
              "    background-color: var(--hover-bg-color);\n",
              "    box-shadow: 0 1px 2px rgba(60, 64, 67, 0.3), 0 1px 3px 1px rgba(60, 64, 67, 0.15);\n",
              "    fill: var(--button-hover-fill-color);\n",
              "  }\n",
              "\n",
              "  .colab-df-quickchart-complete:disabled,\n",
              "  .colab-df-quickchart-complete:disabled:hover {\n",
              "    background-color: var(--disabled-bg-color);\n",
              "    fill: var(--disabled-fill-color);\n",
              "    box-shadow: none;\n",
              "  }\n",
              "\n",
              "  .colab-df-spinner {\n",
              "    border: 2px solid var(--fill-color);\n",
              "    border-color: transparent;\n",
              "    border-bottom-color: var(--fill-color);\n",
              "    animation:\n",
              "      spin 1s steps(1) infinite;\n",
              "  }\n",
              "\n",
              "  @keyframes spin {\n",
              "    0% {\n",
              "      border-color: transparent;\n",
              "      border-bottom-color: var(--fill-color);\n",
              "      border-left-color: var(--fill-color);\n",
              "    }\n",
              "    20% {\n",
              "      border-color: transparent;\n",
              "      border-left-color: var(--fill-color);\n",
              "      border-top-color: var(--fill-color);\n",
              "    }\n",
              "    30% {\n",
              "      border-color: transparent;\n",
              "      border-left-color: var(--fill-color);\n",
              "      border-top-color: var(--fill-color);\n",
              "      border-right-color: var(--fill-color);\n",
              "    }\n",
              "    40% {\n",
              "      border-color: transparent;\n",
              "      border-right-color: var(--fill-color);\n",
              "      border-top-color: var(--fill-color);\n",
              "    }\n",
              "    60% {\n",
              "      border-color: transparent;\n",
              "      border-right-color: var(--fill-color);\n",
              "    }\n",
              "    80% {\n",
              "      border-color: transparent;\n",
              "      border-right-color: var(--fill-color);\n",
              "      border-bottom-color: var(--fill-color);\n",
              "    }\n",
              "    90% {\n",
              "      border-color: transparent;\n",
              "      border-bottom-color: var(--fill-color);\n",
              "    }\n",
              "  }\n",
              "</style>\n",
              "\n",
              "  <script>\n",
              "    async function quickchart(key) {\n",
              "      const quickchartButtonEl =\n",
              "        document.querySelector('#' + key + ' button');\n",
              "      quickchartButtonEl.disabled = true;  // To prevent multiple clicks.\n",
              "      quickchartButtonEl.classList.add('colab-df-spinner');\n",
              "      try {\n",
              "        const charts = await google.colab.kernel.invokeFunction(\n",
              "            'suggestCharts', [key], {});\n",
              "      } catch (error) {\n",
              "        console.error('Error during call to suggestCharts:', error);\n",
              "      }\n",
              "      quickchartButtonEl.classList.remove('colab-df-spinner');\n",
              "      quickchartButtonEl.classList.add('colab-df-quickchart-complete');\n",
              "    }\n",
              "    (() => {\n",
              "      let quickchartButtonEl =\n",
              "        document.querySelector('#df-a5874cb5-7989-4d85-b0da-bb0971c191dd button');\n",
              "      quickchartButtonEl.style.display =\n",
              "        google.colab.kernel.accessAllowed ? 'block' : 'none';\n",
              "    })();\n",
              "  </script>\n",
              "</div>\n",
              "    </div>\n",
              "  </div>\n"
            ],
            "application/vnd.google.colaboratory.intrinsic+json": {
              "type": "dataframe",
              "variable_name": "df",
              "summary": "{\n  \"name\": \"df\",\n  \"rows\": 398,\n  \"fields\": [\n    {\n      \"column\": \"O*NET-SOC Code\",\n      \"properties\": {\n        \"dtype\": \"string\",\n        \"num_unique_values\": 398,\n        \"samples\": [\n          \"29-1029.00\",\n          \"55-3018.00\",\n          \"13-2053.00\"\n        ],\n        \"semantic_type\": \"\",\n        \"description\": \"\"\n      }\n    },\n    {\n      \"column\": \"Title\",\n      \"properties\": {\n        \"dtype\": \"string\",\n        \"num_unique_values\": 398,\n        \"samples\": [\n          \"Dentists, All Other Specialists\",\n          \"Special Forces\",\n          \"Insurance Underwriters\"\n        ],\n        \"semantic_type\": \"\",\n        \"description\": \"\"\n      }\n    },\n    {\n      \"column\": \"Description\",\n      \"properties\": {\n        \"dtype\": \"string\",\n        \"num_unique_values\": 398,\n        \"samples\": [\n          \"All dentists not listed separately.\",\n          \"Implement unconventional operations by air, land, or sea during combat or peacetime as members of elite teams. These activities include offensive raids, demolitions, reconnaissance, search and rescue, and counterterrorism. In addition to their combat training, special forces members often have specialized training in swimming, diving, parachuting, survival, emergency medicine, and foreign languages. Duties include conducting advanced reconnaissance operations and collecting intelligence information; recruiting, training, and equipping friendly forces; conducting raids and invasions on enemy territories; laying and detonating explosives for demolition targets; locating, identifying, defusing, and disposing of ordnance; and operating and maintaining sophisticated communications equipment.\",\n          \"Review individual applications for insurance to evaluate degree of risk involved and determine acceptance of applications.\"\n        ],\n        \"semantic_type\": \"\",\n        \"description\": \"\"\n      }\n    }\n  ]\n}"
            }
          },
          "metadata": {},
          "execution_count": 98
        }
      ]
    },
    {
      "cell_type": "code",
      "source": [
        "dict={}\n",
        "def title():\n",
        "\n",
        "  for x in range(len(df)):\n",
        "      dis=(df['Description'][x])\n",
        "      dis_words=re.findall(r\"[\\w']+\", dis)\n",
        "      val=0\n",
        "      for y in skills:\n",
        "          cur=0\n",
        "          for z in dis_words:\n",
        "            if ((y in model) and (z in model)):\n",
        "                similirity=model.similarity(y,z)\n",
        "                cur+=similirity\n",
        "\n",
        "          val+=cur\n",
        "      title=df['Title'][x]\n",
        "      dict[val]=title\n",
        "  keys=list(dict.keys())\n",
        "  keys.sort(reverse=True)\n",
        "  return keys\n",
        "\n",
        "keys=title()\n",
        "count=0\n",
        "for x in keys:\n",
        "    print(dict[x])\n",
        "    count=count+1;\n",
        "    if(count==10) : break\n",
        "title"
      ],
      "metadata": {
        "colab": {
          "base_uri": "https://localhost:8080/",
          "height": 277
        },
        "id": "BTuLQiQ17dBM",
        "outputId": "f5158776-5919-45fa-fe27-559ab7d1dd51"
      },
      "execution_count": 119,
      "outputs": [
        {
          "output_type": "stream",
          "name": "stdout",
          "text": [
            "Web and Digital Interface Designers\n",
            "Network and Computer Systems Administrators\n",
            "Software Developers\n",
            "Web Developers\n",
            "Database Architects\n",
            "Farmworkers, Farm, Ranch, and Aquacultural Animals\n",
            "Cartographers and Photogrammetrists\n",
            "Data Scientists\n",
            "Software Quality Assurance Analysts and Testers\n",
            "Information Security Engineers\n"
          ]
        },
        {
          "output_type": "execute_result",
          "data": {
            "text/plain": [
              "<function __main__.title()>"
            ],
            "text/html": [
              "<div style=\"max-width:800px; border: 1px solid var(--colab-border-color);\"><style>\n",
              "      pre.function-repr-contents {\n",
              "        overflow-x: auto;\n",
              "        padding: 8px 12px;\n",
              "        max-height: 500px;\n",
              "      }\n",
              "\n",
              "      pre.function-repr-contents.function-repr-contents-collapsed {\n",
              "        cursor: pointer;\n",
              "        max-height: 100px;\n",
              "      }\n",
              "    </style>\n",
              "    <pre style=\"white-space: initial; background:\n",
              "         var(--colab-secondary-surface-color); padding: 8px 12px;\n",
              "         border-bottom: 1px solid var(--colab-border-color);\"><b>title</b><br/>def title()</pre><pre class=\"function-repr-contents function-repr-contents-collapsed\" style=\"\"><a class=\"filepath\" style=\"display:none\" href=\"#\">/content/&lt;ipython-input-119-959bd93c4178&gt;</a>&lt;no docstring&gt;</pre></div>"
            ]
          },
          "metadata": {},
          "execution_count": 119
        }
      ]
    },
    {
      "cell_type": "code",
      "source": [],
      "metadata": {
        "id": "hrXF-rD_7wxX"
      },
      "execution_count": null,
      "outputs": []
    }
  ],
  "metadata": {
    "colab": {
      "provenance": []
    },
    "kernelspec": {
      "display_name": "Python 3",
      "name": "python3"
    }
  },
  "nbformat": 4,
  "nbformat_minor": 0
}